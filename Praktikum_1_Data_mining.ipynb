{
  "cells": [
    {
      "cell_type": "code",
      "execution_count": 3,
      "metadata": {
        "colab": {
          "base_uri": "https://localhost:8080/"
        },
        "id": "WFlm_ZD1YB1w",
        "outputId": "05eb8912-3850-4590-a4fe-d51ea2275d23"
      },
      "outputs": [
        {
          "name": "stdout",
          "output_type": "stream",
          "text": [
            "     Gender  Height  Weight  Index\n",
            "0      Male     174      96      4\n",
            "1      Male     189      87      2\n",
            "2    Female     185     110      4\n",
            "3    Female     195     104      3\n",
            "4      Male     149      61      3\n",
            "..      ...     ...     ...    ...\n",
            "495  Female     150     153      5\n",
            "496  Female     184     121      4\n",
            "497  Female     141     136      5\n",
            "498    Male     150      95      5\n",
            "499    Male     173     131      5\n",
            "\n",
            "[500 rows x 4 columns]\n"
          ]
        }
      ],
      "source": [
        "import pandas as pd\n",
        "\n",
        "# Baca data dari file CSV (jangan lupa masukkan csv nya ke dalam file\n",
        "# atau upload di google collabnya)\n",
        "data = pd.read_csv('500_Person_Gender_Height_Weight_Index.csv')\n",
        "print(data)\n"
      ]
    },
    {
      "cell_type": "code",
      "execution_count": 6,
      "metadata": {
        "colab": {
          "base_uri": "https://localhost:8080/"
        },
        "id": "qKSovq8VHKg2",
        "outputId": "0885221c-06fb-4f27-9f1e-a3cfea45976c"
      },
      "outputs": [
        {
          "name": "stdout",
          "output_type": "stream",
          "text": [
            "       Height                       Weight                     \n",
            "        count        mean  max  min  count        mean  max min\n",
            "Gender                                                         \n",
            "Female    255  170.227451  199  140    255  105.698039  160  50\n",
            "Male      245  169.648980  199  140    245  106.314286  160  50\n"
          ]
        }
      ],
      "source": [
        "# Menghitung jumlah data, rata-rata, nilai maksimum, nilai minimum berdasarkan gender yang di dalam data itu\n",
        "stats = data.groupby('Gender').agg({\n",
        "    'Height': ['count', 'mean', 'max', 'min'],\n",
        "    'Weight': ['count', 'mean', 'max', 'min']})\n",
        "#oupt dari variabel stats\n",
        "print(stats)\n",
        "\n",
        "\n",
        "\n"
      ]
    },
    {
      "cell_type": "code",
      "execution_count": 7,
      "metadata": {
        "colab": {
          "base_uri": "https://localhost:8080/"
        },
        "id": "T7D7ncweJEMa",
        "outputId": "556efd4a-ad3b-47c5-b729-4307b53e5983"
      },
      "outputs": [
        {
          "name": "stdout",
          "output_type": "stream",
          "text": [
            "     Gender  Height  Weight  Index\n",
            "0         1     174      96      4\n",
            "1         1     189      87      2\n",
            "2         0     185     110      4\n",
            "3         0     195     104      3\n",
            "4         1     149      61      3\n",
            "..      ...     ...     ...    ...\n",
            "495       0     150     153      5\n",
            "496       0     184     121      4\n",
            "497       0     141     136      5\n",
            "498       1     150      95      5\n",
            "499       1     173     131      5\n",
            "\n",
            "[500 rows x 4 columns]\n"
          ]
        }
      ],
      "source": [
        "# Ubah Gender menjadi biner (0,1)\n",
        "data['Gender'] = data['Gender'].map({'Female': 0, 'Male': 1})\n",
        "#menampilkan outputnya\n",
        "print(data)\n"
      ]
    },
    {
      "cell_type": "code",
      "execution_count": 15,
      "metadata": {
        "colab": {
          "base_uri": "https://localhost:8080/",
          "height": 653
        },
        "id": "R3_PvVp_JRb8",
        "outputId": "9188676f-0942-4482-a1f1-07b431824995"
      },
      "outputs": [
        {
          "name": "stderr",
          "output_type": "stream",
          "text": [
            "/usr/local/lib/python3.10/dist-packages/seaborn/_base.py:949: FutureWarning: When grouping with a length-1 list-like, you will need to pass a length-1 tuple to get_group in a future version of pandas. Pass `(name,)` instead of `name` to silence this warning.\n",
            "  data_subset = grouped_data.get_group(pd_key)\n",
            "/usr/local/lib/python3.10/dist-packages/seaborn/_base.py:949: FutureWarning: When grouping with a length-1 list-like, you will need to pass a length-1 tuple to get_group in a future version of pandas. Pass `(name,)` instead of `name` to silence this warning.\n",
            "  data_subset = grouped_data.get_group(pd_key)\n"
          ]
        },
        {
          "data": {
            "image/png": "[encoded data removed]",
            "text/plain": [
              "<Figure size 800x600 with 1 Axes>"
            ]
          },
          "metadata": {},
          "output_type": "display_data"
        }
      ],
      "source": [
        "import pandas as pd\n",
        "import matplotlib.pyplot as plt\n",
        "import seaborn as sns\n",
        "\n",
        "\n",
        "data = pd.read_csv('500_Person_Gender_Height_Weight_Index.csv')\n",
        "# Plot grafik Index BMI berdasarkan gender\n",
        "plt.figure(figsize=(8, 6))\n",
        "sns.countplot(x='Index', hue=('Gender'), data=data)\n",
        "plt.title('BMI Index Distribution by Gender')\n",
        "plt.xlabel('BMI Index')\n",
        "plt.ylabel('Count')\n",
        "plt.legend(title='Gender', labels=['Female', 'Male'])\n",
        "plt.show()\n"
      ]
    }
  ],
  "metadata": {
    "colab": {
      "provenance": []
    },
    "kernelspec": {
      "display_name": "Python 3",
      "name": "python3"
    },
    "language_info": {
      "name": "python"
    }
  },
  "nbformat": 4,
  "nbformat_minor": 0
}
